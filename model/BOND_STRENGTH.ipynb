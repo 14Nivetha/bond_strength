{
  "cells": [
    {
      "cell_type": "code",
      "execution_count": 1,
      "metadata": {
        "id": "OPcMZriHA3Oe"
      },
      "outputs": [],
      "source": [
        "import pandas as pd\n",
        "import numpy as np\n",
        "import matplotlib.pyplot as plt\n",
        "import seaborn as sns\n",
        "%matplotlib inline"
      ]
    },
    {
      "cell_type": "code",
      "execution_count": 2,
      "metadata": {
        "id": "e6UXQNkxvT6d"
      },
      "outputs": [],
      "source": [
        "dp= pd.read_csv('bond.csv',encoding= 'unicode_escape')"
      ]
    },
    {
      "cell_type": "code",
      "execution_count": 3,
      "metadata": {
        "colab": {
          "base_uri": "https://localhost:8080/",
          "height": 206
        },
        "id": "iS6YgEGUwl5a",
        "outputId": "edd227bc-1187-4a90-e504-1dcafb3c009b"
      },
      "outputs": [
        {
          "data": {
            "text/html": [
              "<div>\n",
              "<style scoped>\n",
              "    .dataframe tbody tr th:only-of-type {\n",
              "        vertical-align: middle;\n",
              "    }\n",
              "\n",
              "    .dataframe tbody tr th {\n",
              "        vertical-align: top;\n",
              "    }\n",
              "\n",
              "    .dataframe thead th {\n",
              "        text-align: right;\n",
              "    }\n",
              "</style>\n",
              "<table border=\"1\" class=\"dataframe\">\n",
              "  <thead>\n",
              "    <tr style=\"text-align: right;\">\n",
              "      <th></th>\n",
              "      <th>No.</th>\n",
              "      <th>(mm)</th>\n",
              "      <th>(Mpa)</th>\n",
              "      <th>(Gpa)</th>\n",
              "      <th>(mm).1</th>\n",
              "      <th>(mm).2</th>\n",
              "      <th>(mm).3</th>\n",
              "      <th>(kN)</th>\n",
              "    </tr>\n",
              "  </thead>\n",
              "  <tbody>\n",
              "    <tr>\n",
              "      <th>0</th>\n",
              "      <td>1</td>\n",
              "      <td>100.0</td>\n",
              "      <td>40.80</td>\n",
              "      <td>230.0</td>\n",
              "      <td>0.11</td>\n",
              "      <td>50.0</td>\n",
              "      <td>75.0</td>\n",
              "      <td>5.80</td>\n",
              "    </tr>\n",
              "    <tr>\n",
              "      <th>1</th>\n",
              "      <td>2</td>\n",
              "      <td>100.0</td>\n",
              "      <td>40.80</td>\n",
              "      <td>230.0</td>\n",
              "      <td>0.11</td>\n",
              "      <td>50.0</td>\n",
              "      <td>150.0</td>\n",
              "      <td>9.20</td>\n",
              "    </tr>\n",
              "    <tr>\n",
              "      <th>2</th>\n",
              "      <td>3</td>\n",
              "      <td>100.0</td>\n",
              "      <td>44.93</td>\n",
              "      <td>230.0</td>\n",
              "      <td>0.11</td>\n",
              "      <td>50.0</td>\n",
              "      <td>300.0</td>\n",
              "      <td>11.95</td>\n",
              "    </tr>\n",
              "    <tr>\n",
              "      <th>3</th>\n",
              "      <td>4</td>\n",
              "      <td>100.0</td>\n",
              "      <td>44.31</td>\n",
              "      <td>230.0</td>\n",
              "      <td>0.22</td>\n",
              "      <td>50.0</td>\n",
              "      <td>65.0</td>\n",
              "      <td>9.55</td>\n",
              "    </tr>\n",
              "    <tr>\n",
              "      <th>4</th>\n",
              "      <td>5</td>\n",
              "      <td>100.0</td>\n",
              "      <td>44.31</td>\n",
              "      <td>230.0</td>\n",
              "      <td>0.22</td>\n",
              "      <td>50.0</td>\n",
              "      <td>150.0</td>\n",
              "      <td>16.25</td>\n",
              "    </tr>\n",
              "  </tbody>\n",
              "</table>\n",
              "</div>"
            ],
            "text/plain": [
              "             No.   (mm)  (Mpa)  (Gpa)  (mm).1  (mm).2  (mm).3   (kN)\n",
              "0  1              100.0  40.80  230.0    0.11    50.0    75.0   5.80\n",
              "1  2              100.0  40.80  230.0    0.11    50.0   150.0   9.20\n",
              "2  3              100.0  44.93  230.0    0.11    50.0   300.0  11.95\n",
              "3  4              100.0  44.31  230.0    0.22    50.0    65.0   9.55\n",
              "4  5              100.0  44.31  230.0    0.22    50.0   150.0  16.25"
            ]
          },
          "execution_count": 3,
          "metadata": {},
          "output_type": "execute_result"
        }
      ],
      "source": [
        "dp.head()"
      ]
    },
    {
      "cell_type": "code",
      "execution_count": 4,
      "metadata": {
        "colab": {
          "base_uri": "https://localhost:8080/",
          "height": 424
        },
        "id": "LkLi4cgWx4iV",
        "outputId": "5287abdb-1d38-4926-e51b-a959a69955f8"
      },
      "outputs": [
        {
          "data": {
            "text/html": [
              "<div>\n",
              "<style scoped>\n",
              "    .dataframe tbody tr th:only-of-type {\n",
              "        vertical-align: middle;\n",
              "    }\n",
              "\n",
              "    .dataframe tbody tr th {\n",
              "        vertical-align: top;\n",
              "    }\n",
              "\n",
              "    .dataframe thead th {\n",
              "        text-align: right;\n",
              "    }\n",
              "</style>\n",
              "<table border=\"1\" class=\"dataframe\">\n",
              "  <thead>\n",
              "    <tr style=\"text-align: right;\">\n",
              "      <th></th>\n",
              "      <th>No.</th>\n",
              "      <th>(mm)</th>\n",
              "      <th>(Mpa)</th>\n",
              "      <th>(Gpa)</th>\n",
              "      <th>(mm).1</th>\n",
              "      <th>(mm).2</th>\n",
              "      <th>(mm).3</th>\n",
              "      <th>(kN)</th>\n",
              "    </tr>\n",
              "  </thead>\n",
              "  <tbody>\n",
              "    <tr>\n",
              "      <th>0</th>\n",
              "      <td>False</td>\n",
              "      <td>False</td>\n",
              "      <td>False</td>\n",
              "      <td>False</td>\n",
              "      <td>False</td>\n",
              "      <td>False</td>\n",
              "      <td>False</td>\n",
              "      <td>False</td>\n",
              "    </tr>\n",
              "    <tr>\n",
              "      <th>1</th>\n",
              "      <td>False</td>\n",
              "      <td>False</td>\n",
              "      <td>False</td>\n",
              "      <td>False</td>\n",
              "      <td>False</td>\n",
              "      <td>False</td>\n",
              "      <td>False</td>\n",
              "      <td>False</td>\n",
              "    </tr>\n",
              "    <tr>\n",
              "      <th>2</th>\n",
              "      <td>False</td>\n",
              "      <td>False</td>\n",
              "      <td>False</td>\n",
              "      <td>False</td>\n",
              "      <td>False</td>\n",
              "      <td>False</td>\n",
              "      <td>False</td>\n",
              "      <td>False</td>\n",
              "    </tr>\n",
              "    <tr>\n",
              "      <th>3</th>\n",
              "      <td>False</td>\n",
              "      <td>False</td>\n",
              "      <td>False</td>\n",
              "      <td>False</td>\n",
              "      <td>False</td>\n",
              "      <td>False</td>\n",
              "      <td>False</td>\n",
              "      <td>False</td>\n",
              "    </tr>\n",
              "    <tr>\n",
              "      <th>4</th>\n",
              "      <td>False</td>\n",
              "      <td>False</td>\n",
              "      <td>False</td>\n",
              "      <td>False</td>\n",
              "      <td>False</td>\n",
              "      <td>False</td>\n",
              "      <td>False</td>\n",
              "      <td>False</td>\n",
              "    </tr>\n",
              "    <tr>\n",
              "      <th>...</th>\n",
              "      <td>...</td>\n",
              "      <td>...</td>\n",
              "      <td>...</td>\n",
              "      <td>...</td>\n",
              "      <td>...</td>\n",
              "      <td>...</td>\n",
              "      <td>...</td>\n",
              "      <td>...</td>\n",
              "    </tr>\n",
              "    <tr>\n",
              "      <th>850</th>\n",
              "      <td>False</td>\n",
              "      <td>False</td>\n",
              "      <td>False</td>\n",
              "      <td>False</td>\n",
              "      <td>False</td>\n",
              "      <td>False</td>\n",
              "      <td>False</td>\n",
              "      <td>False</td>\n",
              "    </tr>\n",
              "    <tr>\n",
              "      <th>851</th>\n",
              "      <td>False</td>\n",
              "      <td>False</td>\n",
              "      <td>False</td>\n",
              "      <td>False</td>\n",
              "      <td>False</td>\n",
              "      <td>False</td>\n",
              "      <td>False</td>\n",
              "      <td>False</td>\n",
              "    </tr>\n",
              "    <tr>\n",
              "      <th>852</th>\n",
              "      <td>False</td>\n",
              "      <td>False</td>\n",
              "      <td>False</td>\n",
              "      <td>False</td>\n",
              "      <td>False</td>\n",
              "      <td>False</td>\n",
              "      <td>False</td>\n",
              "      <td>False</td>\n",
              "    </tr>\n",
              "    <tr>\n",
              "      <th>853</th>\n",
              "      <td>False</td>\n",
              "      <td>False</td>\n",
              "      <td>False</td>\n",
              "      <td>False</td>\n",
              "      <td>False</td>\n",
              "      <td>False</td>\n",
              "      <td>False</td>\n",
              "      <td>False</td>\n",
              "    </tr>\n",
              "    <tr>\n",
              "      <th>854</th>\n",
              "      <td>False</td>\n",
              "      <td>False</td>\n",
              "      <td>False</td>\n",
              "      <td>False</td>\n",
              "      <td>False</td>\n",
              "      <td>False</td>\n",
              "      <td>False</td>\n",
              "      <td>False</td>\n",
              "    </tr>\n",
              "  </tbody>\n",
              "</table>\n",
              "<p>855 rows × 8 columns</p>\n",
              "</div>"
            ],
            "text/plain": [
              "       No.   (mm)  (Mpa)  (Gpa)  (mm).1  (mm).2  (mm).3   (kN)\n",
              "0    False  False  False  False   False   False   False  False\n",
              "1    False  False  False  False   False   False   False  False\n",
              "2    False  False  False  False   False   False   False  False\n",
              "3    False  False  False  False   False   False   False  False\n",
              "4    False  False  False  False   False   False   False  False\n",
              "..     ...    ...    ...    ...     ...     ...     ...    ...\n",
              "850  False  False  False  False   False   False   False  False\n",
              "851  False  False  False  False   False   False   False  False\n",
              "852  False  False  False  False   False   False   False  False\n",
              "853  False  False  False  False   False   False   False  False\n",
              "854  False  False  False  False   False   False   False  False\n",
              "\n",
              "[855 rows x 8 columns]"
            ]
          },
          "execution_count": 4,
          "metadata": {},
          "output_type": "execute_result"
        }
      ],
      "source": [
        "dp.isnull()"
      ]
    },
    {
      "cell_type": "code",
      "execution_count": 5,
      "metadata": {
        "id": "XjT3uq7OyFcW"
      },
      "outputs": [],
      "source": [
        "from sklearn.model_selection import cross_val_score\n",
        "from sklearn.datasets import make_blobs\n",
        "from sklearn.ensemble import RandomForestRegressor\n",
        "from sklearn.ensemble import ExtraTreesRegressor\n",
        "from sklearn.tree import DecisionTreeRegressor\n",
        "from sklearn.model_selection import train_test_split\n",
        "from sklearn.metrics import mean_squared_error"
      ]
    },
    {
      "cell_type": "code",
      "execution_count": 6,
      "metadata": {
        "id": "jU0Jvtl8i8s0"
      },
      "outputs": [],
      "source": [
        "dp.drop(['No.'],axis=1,inplace=True)"
      ]
    },
    {
      "cell_type": "code",
      "execution_count": 7,
      "metadata": {
        "id": "N_buLv-4icxi"
      },
      "outputs": [],
      "source": [
        "X=dp.drop(['(kN)'],axis=1)\n",
        "y=dp['(kN)']"
      ]
    },
    {
      "cell_type": "code",
      "execution_count": 8,
      "metadata": {
        "colab": {
          "base_uri": "https://localhost:8080/"
        },
        "id": "kvIlmKrsjCni",
        "outputId": "6929bee5-ac00-4665-e94d-917cd5651fdd"
      },
      "outputs": [
        {
          "data": {
            "text/plain": [
              "0.2791336550175155"
            ]
          },
          "execution_count": 8,
          "metadata": {},
          "output_type": "execute_result"
        }
      ],
      "source": [
        "#RandomForestRegressor\n",
        "clf = RandomForestRegressor(n_estimators=10, max_depth=None,min_samples_split=2, random_state=0)\n",
        "scores = cross_val_score(clf,X,y, cv=5)\n",
        "scores.mean()"
      ]
    },
    {
      "cell_type": "code",
      "execution_count": 9,
      "metadata": {
        "colab": {
          "base_uri": "https://localhost:8080/"
        },
        "id": "32lK4p-ijSnE",
        "outputId": "a2ad744f-74cc-4fd5-f9f1-a38331b34b9b"
      },
      "outputs": [
        {
          "data": {
            "text/plain": [
              "-0.1468124311364662"
            ]
          },
          "execution_count": 9,
          "metadata": {},
          "output_type": "execute_result"
        }
      ],
      "source": [
        "#DecisionTreeRegressor\n",
        "clf = DecisionTreeRegressor(max_depth=None, min_samples_split=2,random_state=0)\n",
        "scores = cross_val_score(clf, X, y, cv=5)\n",
        "scores.mean()"
      ]
    },
    {
      "cell_type": "code",
      "execution_count": 10,
      "metadata": {
        "colab": {
          "base_uri": "https://localhost:8080/"
        },
        "id": "cqaK1whHjkjX",
        "outputId": "241b663b-8922-4846-c4fa-df027059a654"
      },
      "outputs": [
        {
          "data": {
            "text/plain": [
              "0.2821463896156037"
            ]
          },
          "execution_count": 10,
          "metadata": {},
          "output_type": "execute_result"
        }
      ],
      "source": [
        "#ExtraTreesRegressor\n",
        "clf = ExtraTreesRegressor(n_estimators=10, max_depth=None,min_samples_split=2, random_state=0)\n",
        "scores = cross_val_score(clf, X, y, cv=5)\n",
        "scores.mean() "
      ]
    },
    {
      "cell_type": "code",
      "execution_count": 11,
      "metadata": {
        "id": "xEkfFgeWkAWh"
      },
      "outputs": [],
      "source": [
        "model_1 = RandomForestRegressor()\n",
        "model_2 = DecisionTreeRegressor()\n",
        "model_3 = ExtraTreesRegressor()"
      ]
    },
    {
      "cell_type": "code",
      "execution_count": 12,
      "metadata": {
        "id": "7GbmHai5kGKp"
      },
      "outputs": [],
      "source": [
        "X_train,X_test,y_train,y_test=train_test_split(X,y,test_size=0.2,random_state=42)"
      ]
    },
    {
      "cell_type": "code",
      "execution_count": 13,
      "metadata": {
        "id": "WHBrePclkLml"
      },
      "outputs": [],
      "source": [
        "from sklearn.ensemble import VotingRegressor"
      ]
    },
    {
      "cell_type": "code",
      "execution_count": 14,
      "metadata": {
        "id": "5KUyvI5qkP2L"
      },
      "outputs": [],
      "source": [
        "rf= RandomForestRegressor()\n",
        "dt = DecisionTreeRegressor()\n",
        "et= ExtraTreesRegressor()"
      ]
    },
    {
      "cell_type": "code",
      "execution_count": 15,
      "metadata": {
        "id": "ILVy48BrkWYN"
      },
      "outputs": [],
      "source": [
        "final_model = VotingRegressor(\n",
        "    estimators=[('rf', model_1), ('dt', model_2), ('et', model_3)])"
      ]
    },
    {
      "cell_type": "code",
      "execution_count": 16,
      "metadata": {
        "colab": {
          "base_uri": "https://localhost:8080/"
        },
        "id": "bf4NvbI9kb-c",
        "outputId": "9af55960-a6f7-4aed-8ce4-cab6e3f897a4"
      },
      "outputs": [
        {
          "data": {
            "text/plain": [
              "VotingRegressor(estimators=[('rf', RandomForestRegressor()),\n",
              "                            ('dt', DecisionTreeRegressor()),\n",
              "                            ('et', ExtraTreesRegressor())])"
            ]
          },
          "execution_count": 16,
          "metadata": {},
          "output_type": "execute_result"
        }
      ],
      "source": [
        "final_model.fit(X_train, y_train)"
      ]
    },
    {
      "cell_type": "code",
      "execution_count": 17,
      "metadata": {
        "id": "lPJu5ff4kguw"
      },
      "outputs": [],
      "source": [
        "pred_final = final_model.predict(X_test)"
      ]
    },
    {
      "cell_type": "code",
      "execution_count": 18,
      "metadata": {
        "id": "SMEqqitJknZW"
      },
      "outputs": [],
      "source": [
        "from sklearn.metrics import r2_score"
      ]
    },
    {
      "cell_type": "code",
      "execution_count": 19,
      "metadata": {
        "colab": {
          "base_uri": "https://localhost:8080/"
        },
        "id": "VTbAB1OzksKl",
        "outputId": "a342f348-466e-46ad-8eaa-7ef44cd9a840"
      },
      "outputs": [
        {
          "name": "stdout",
          "output_type": "stream",
          "text": [
            "0.9383954747954127\n"
          ]
        }
      ],
      "source": [
        "print(r2_score(y_test, pred_final))"
      ]
    },
    {
      "cell_type": "code",
      "execution_count": 20,
      "metadata": {
        "id": "VhPg7eySogQA"
      },
      "outputs": [],
      "source": [
        "import pickle\n",
        "pickle.dump(final_model,open('model.pkl','wb'))"
      ]
    },
    {
      "cell_type": "code",
      "execution_count": 21,
      "metadata": {
        "id": "n_N2YdUconIS"
      },
      "outputs": [],
      "source": [
        "model1 = pickle.load(open('model.pkl','rb'))"
      ]
    }
  ],
  "metadata": {
    "colab": {
      "name": "BOND_STRENGTH",
      "provenance": []
    },
    "kernelspec": {
      "display_name": "Python 3.9.12 ('base')",
      "language": "python",
      "name": "python3"
    },
    "language_info": {
      "codemirror_mode": {
        "name": "ipython",
        "version": 3
      },
      "file_extension": ".py",
      "mimetype": "text/x-python",
      "name": "python",
      "nbconvert_exporter": "python",
      "pygments_lexer": "ipython3",
      "version": "3.9.12"
    },
    "vscode": {
      "interpreter": {
        "hash": "f1ad40bb7cac2ea5b0e401f2815be5abcc0a8f1d7e044a68742bc01729a132d0"
      }
    }
  },
  "nbformat": 4,
  "nbformat_minor": 0
}
